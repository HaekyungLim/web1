{
  "nbformat": 4,
  "nbformat_minor": 0,
  "metadata": {
    "colab": {
      "provenance": [],
      "toc_visible": true,
      "include_colab_link": true
    },
    "kernelspec": {
      "name": "python3",
      "display_name": "Python 3"
    },
    "language_info": {
      "name": "python"
    }
  },
  "cells": [
    {
      "cell_type": "markdown",
      "metadata": {
        "id": "view-in-github",
        "colab_type": "text"
      },
      "source": [
        "<a href=\"https://colab.research.google.com/github/HaekyungLim/web1/blob/main/SetB_Step1_Python_LAB_ipynb%EC%9D%98_%EC%82%AC%EB%B3%B8.ipynb\" target=\"_parent\"><img src=\"https://colab.research.google.com/assets/colab-badge.svg\" alt=\"Open In Colab\"/></a>"
      ]
    },
    {
      "cell_type": "markdown",
      "metadata": {
        "id": "Tlf34LmAySL5"
      },
      "source": [
        "## PART 1. Python"
      ]
    },
    {
      "cell_type": "markdown",
      "metadata": {
        "id": "OWGzz_g6g818"
      },
      "source": [
        "## Section 1 : Python Basic"
      ]
    },
    {
      "cell_type": "markdown",
      "metadata": {
        "id": "2cR7n_3a5R5L"
      },
      "source": [
        "### 1-01.객체(Object)\n",
        "- 실 세계에 있는 모든 개념을 컴퓨터 세계에 반영하여 저장한 것\n",
        "- 객체는 type과 type이 아닌 것으로 나뉨\n",
        "- type인 것(class) : int, float, bool, str, list, tuple, set, dict, function, module 같은 것이 있음\n",
        "- type이 아닌 것(instance): 실제 연산할 값을 갖는 10, 3.14, True, ‘python’ 등이 있음\n"
      ]
    },
    {
      "cell_type": "code",
      "metadata": {
        "id": "_p2xLxdRh56G"
      },
      "source": [
        "# [1] class(=type), instance\n"
      ],
      "execution_count": null,
      "outputs": []
    },
    {
      "cell_type": "code",
      "metadata": {
        "id": "ysTHNadSh56M"
      },
      "source": [
        "# [2] 연산자, 함수, .(접근 연산자) 사용\n"
      ],
      "execution_count": null,
      "outputs": []
    },
    {
      "cell_type": "code",
      "metadata": {
        "colab": {
          "base_uri": "https://localhost:8080/"
        },
        "id": "rP8smvKwiz-i",
        "outputId": "5d5c4297-b64b-4023-b2be-04b29f5f5529"
      },
      "source": [
        "print('python'.upper())"
      ],
      "execution_count": null,
      "outputs": [
        {
          "output_type": "stream",
          "name": "stdout",
          "text": [
            "PYTHON\n"
          ]
        }
      ]
    },
    {
      "cell_type": "code",
      "metadata": {
        "id": "-NRsPJB-h56O"
      },
      "source": [
        "# [3] 객체의 type, 주소, 자주 사용되는 기능 목록 확인\n"
      ],
      "execution_count": null,
      "outputs": []
    },
    {
      "cell_type": "code",
      "metadata": {
        "colab": {
          "base_uri": "https://localhost:8080/"
        },
        "id": "7z3JWsqDjfQC",
        "outputId": "6a9e3b8d-fd56-49ec-c927-e7e5b546a5ac"
      },
      "source": [
        "(10).bit_length()  # 1010"
      ],
      "execution_count": null,
      "outputs": [
        {
          "output_type": "execute_result",
          "data": {
            "text/plain": [
              "4"
            ]
          },
          "metadata": {},
          "execution_count": 10
        }
      ]
    },
    {
      "cell_type": "markdown",
      "metadata": {
        "id": "WnpFMkvay5X8"
      },
      "source": [
        "### 1-02.코드 입력 및 실행"
      ]
    },
    {
      "cell_type": "code",
      "metadata": {
        "id": "w0FcOg4szARR"
      },
      "source": [
        "# [1] print 함수를 사용해 'Hi! Python!'라는 문자열을 출력한다\n"
      ],
      "execution_count": null,
      "outputs": []
    },
    {
      "cell_type": "code",
      "metadata": {
        "id": "TIwaBMJNzMON"
      },
      "source": [
        "# [2] print 함수를 사용해 10, '+', 20, '=', 10+20 이라는\n",
        "# 여러 개의 객체를 콤마(,)로 구분하여 출력한다\n"
      ],
      "execution_count": null,
      "outputs": []
    },
    {
      "cell_type": "code",
      "metadata": {
        "id": "ny-IBnJtzH-q"
      },
      "source": [
        "# [3] display 함수를 사용해 'Hi! Python!'라는 문자열을 출력한다\n",
        "# (print 함수와의 차이점은?)\n"
      ],
      "execution_count": null,
      "outputs": []
    },
    {
      "cell_type": "code",
      "metadata": {
        "id": "e0IHf0pzzSt-"
      },
      "source": [
        "# [4] display 함수를 사용해 10, 20 이라는 두 개의 객체를\n",
        "# 콤마(.)로 구분하여 출력한다 (print 함수와의 차이점은?)\n"
      ],
      "execution_count": null,
      "outputs": []
    },
    {
      "cell_type": "markdown",
      "metadata": {
        "id": "rSkI6vm6yVnz"
      },
      "source": [
        "### 1-03.이름(변수), 타입(type)"
      ]
    },
    {
      "cell_type": "code",
      "metadata": {
        "id": "7CjnlVObZFZ7"
      },
      "source": [
        "# [1] 10 이라는 int (정수) 객체에 'a'라는 이름을 붙여 저장하고,\n",
        "#     print 함수를 사용해 class와 객체를 출력한다\n",
        "#     type(a)는 a라는 객체의 class를 출력하는 함수이다\n",
        "\n",
        "a = 10\n",
        "print(type(a), a)"
      ],
      "execution_count": null,
      "outputs": []
    },
    {
      "cell_type": "code",
      "metadata": {
        "id": "jad51TBrZFXJ"
      },
      "source": [
        "# [2] 3.14 라는 float (실수) 객체에 'a'라는 이름을 붙여 저장하고,\n",
        "#     print 함수를 사용해 class와 객체를 출력한다\n",
        "\n",
        "print(type(a), a)"
      ],
      "execution_count": null,
      "outputs": []
    },
    {
      "cell_type": "code",
      "metadata": {
        "id": "3-G0zzOr6819"
      },
      "source": [
        "# [3] True 라는 bool 객체에 'a'라는 이름을 붙여 저장하고,\n",
        "#     print 함수를 사용해 class와 객체를 출력한다\n",
        "\n",
        "print(type(a), a)"
      ],
      "execution_count": null,
      "outputs": []
    },
    {
      "cell_type": "code",
      "metadata": {
        "colab": {
          "base_uri": "https://localhost:8080/"
        },
        "id": "Lp7M_slurYHt",
        "outputId": "a4c0644b-e241-41c9-f08f-2bb547e00a03"
      },
      "source": [
        "# True : 1, False : 0\n",
        "print(True + True, True * False)"
      ],
      "execution_count": null,
      "outputs": [
        {
          "output_type": "stream",
          "name": "stdout",
          "text": [
            "2 0\n"
          ]
        }
      ]
    },
    {
      "cell_type": "code",
      "metadata": {
        "id": "FEUxdgK-ZFUM"
      },
      "source": [
        "# [4] 'python' 이라는 str 객체에 'a'라는 이름을 붙여 저장하고,\n",
        "#     print 함수를 사용해 class와 객체를 출력한다\n",
        "\n",
        "print(type(a), a)"
      ],
      "execution_count": null,
      "outputs": []
    },
    {
      "cell_type": "code",
      "metadata": {
        "colab": {
          "base_uri": "https://localhost:8080/"
        },
        "id": "SrOjiQQSrr28",
        "outputId": "0da77aff-469a-46a5-d972-982c13616865"
      },
      "source": [
        "a = \"python\"\n",
        "print(type(a), a)"
      ],
      "execution_count": null,
      "outputs": [
        {
          "output_type": "stream",
          "name": "stdout",
          "text": [
            "<class 'str'> python\n"
          ]
        }
      ]
    },
    {
      "cell_type": "code",
      "metadata": {
        "colab": {
          "base_uri": "https://localhost:8080/"
        },
        "id": "k24AsivHr3B3",
        "outputId": "20a8f69b-1621-4157-8442-8e416ac78a5b"
      },
      "source": [
        "a = (1)\n",
        "b = (1, )\n",
        "c = (1, 2)\n",
        "print(type(a), type(b), type(c))"
      ],
      "execution_count": null,
      "outputs": [
        {
          "output_type": "stream",
          "name": "stdout",
          "text": [
            "<class 'int'> <class 'tuple'> <class 'tuple'>\n"
          ]
        }
      ]
    },
    {
      "cell_type": "code",
      "metadata": {
        "id": "RWr5pUCMsQXP"
      },
      "source": [
        "# str, tuple, list : 순서를 갖는 Container종류\n",
        "# set, dict : 순서를 갖지 않는 Container종류"
      ],
      "execution_count": null,
      "outputs": []
    },
    {
      "cell_type": "code",
      "metadata": {
        "id": "VS8W9hvM1ris",
        "colab": {
          "base_uri": "https://localhost:8080/"
        },
        "outputId": "964dfad9-b6a8-41d6-dd88-9a6733f4c002"
      },
      "source": [
        "# [5] 여러 개의 객체를 묶어 놓은 객체를 Container라고 하며\n",
        "#     묶음 기호에 따라 여러 종류의 Container가 있음\n",
        "#     tuple : (1,)\n",
        "#     list  : [1]\n",
        "#     set   : {1}\n",
        "#     dict  : {'one': 1}  ->   {'apple':'사과', key:value}\n",
        "a = (1, 2, 3)\n",
        "b = [1, 2, 3]\n",
        "c = {'C': 67, 'A': 65, 'B': 66}\n",
        "print(type(a), a)\n",
        "print(type(b), b)\n",
        "print(type(c), c)"
      ],
      "execution_count": null,
      "outputs": [
        {
          "output_type": "stream",
          "name": "stdout",
          "text": [
            "<class 'tuple'> (1, 2, 3)\n",
            "<class 'list'> [1, 2, 3]\n",
            "<class 'dict'> {'C': 67, 'A': 65, 'B': 66}\n"
          ]
        }
      ]
    },
    {
      "cell_type": "code",
      "metadata": {
        "id": "FEMO_15KJtSP",
        "colab": {
          "base_uri": "https://localhost:8080/"
        },
        "outputId": "8ca057b8-15c1-493b-d24f-a89baa83eb4c"
      },
      "source": [
        "# [6] 아래의 10 에 대해서 a라는 이름을 사용하여 변경하면\n",
        "#     좋아지는 것은 무엇인가?\n",
        "print(type(10), id(10), dir(10), sep='\\n')"
      ],
      "execution_count": null,
      "outputs": [
        {
          "output_type": "stream",
          "name": "stdout",
          "text": [
            "<class 'int'>\n",
            "11122880\n",
            "['__abs__', '__add__', '__and__', '__bool__', '__ceil__', '__class__', '__delattr__', '__dir__', '__divmod__', '__doc__', '__eq__', '__float__', '__floor__', '__floordiv__', '__format__', '__ge__', '__getattribute__', '__getnewargs__', '__gt__', '__hash__', '__index__', '__init__', '__init_subclass__', '__int__', '__invert__', '__le__', '__lshift__', '__lt__', '__mod__', '__mul__', '__ne__', '__neg__', '__new__', '__or__', '__pos__', '__pow__', '__radd__', '__rand__', '__rdivmod__', '__reduce__', '__reduce_ex__', '__repr__', '__rfloordiv__', '__rlshift__', '__rmod__', '__rmul__', '__ror__', '__round__', '__rpow__', '__rrshift__', '__rshift__', '__rsub__', '__rtruediv__', '__rxor__', '__setattr__', '__sizeof__', '__str__', '__sub__', '__subclasshook__', '__truediv__', '__trunc__', '__xor__', 'bit_length', 'conjugate', 'denominator', 'from_bytes', 'imag', 'numerator', 'real', 'to_bytes']\n"
          ]
        }
      ]
    },
    {
      "cell_type": "code",
      "metadata": {
        "colab": {
          "base_uri": "https://localhost:8080/"
        },
        "id": "T_mEOvRmtBTj",
        "outputId": "f7da7f98-7a83-4172-e299-ef2e5d2b5c3c"
      },
      "source": [
        "a = 3.5\n",
        "print(type(a), id(a), dir(a), sep='\\n')"
      ],
      "execution_count": null,
      "outputs": [
        {
          "output_type": "stream",
          "name": "stdout",
          "text": [
            "<class 'float'>\n",
            "140218874431280\n",
            "['__abs__', '__add__', '__bool__', '__class__', '__delattr__', '__dir__', '__divmod__', '__doc__', '__eq__', '__float__', '__floordiv__', '__format__', '__ge__', '__getattribute__', '__getformat__', '__getnewargs__', '__gt__', '__hash__', '__init__', '__init_subclass__', '__int__', '__le__', '__lt__', '__mod__', '__mul__', '__ne__', '__neg__', '__new__', '__pos__', '__pow__', '__radd__', '__rdivmod__', '__reduce__', '__reduce_ex__', '__repr__', '__rfloordiv__', '__rmod__', '__rmul__', '__round__', '__rpow__', '__rsub__', '__rtruediv__', '__set_format__', '__setattr__', '__sizeof__', '__str__', '__sub__', '__subclasshook__', '__truediv__', '__trunc__', 'as_integer_ratio', 'conjugate', 'fromhex', 'hex', 'imag', 'is_integer', 'real']\n"
          ]
        }
      ]
    },
    {
      "cell_type": "code",
      "metadata": {
        "id": "HCUg4-citWbD"
      },
      "source": [
        "# 영문, 숫자, _ (under score), 한글(비권장)\n",
        "# 숫자는 첫 번째 글자로 사용하지 않음 (사용시 Error)\n",
        "# _ : 첫 번째 글자로 사용할 수 있지만 하지 않는 것을 권유\n",
        "# keyword : 약속된 의미있는 단어\n",
        "# - 이름을 사용하지 못함 (사용시 Error)"
      ],
      "execution_count": null,
      "outputs": []
    },
    {
      "cell_type": "code",
      "metadata": {
        "id": "4lucjyNTuM4h",
        "colab": {
          "base_uri": "https://localhost:8080/",
          "height": 112
        },
        "outputId": "8ec6e04a-d421-45bb-b861-684fa1611f24"
      },
      "source": [
        "if = 100  # keyword"
      ],
      "execution_count": null,
      "outputs": [
        {
          "output_type": "error",
          "ename": "SyntaxError",
          "evalue": "invalid syntax (<ipython-input-1-b793a12b8183>, line 1)",
          "traceback": [
            "\u001b[0;36m  File \u001b[0;32m\"<ipython-input-1-b793a12b8183>\"\u001b[0;36m, line \u001b[0;32m1\u001b[0m\n\u001b[0;31m    if = 100  # keyword\u001b[0m\n\u001b[0m       ^\u001b[0m\n\u001b[0;31mSyntaxError\u001b[0m\u001b[0;31m:\u001b[0m invalid syntax\n"
          ]
        }
      ]
    },
    {
      "cell_type": "markdown",
      "metadata": {
        "id": "8hQrZjyu_BRO"
      },
      "source": [
        "### 1-04.서식있는 문자열"
      ]
    },
    {
      "cell_type": "code",
      "metadata": {
        "id": "RWOLwu2Q-SXQ"
      },
      "source": [
        "# [1] 1000 값을 갖는 정수 객체 a를 사용하여 'Price is 1000'을 출력한다\n",
        "# % 연산자, format 메서드, f-string 사용 => 문자열 만드는 방법\n",
        "# %d : 10진 정수,  %f : 실수(float), %s : 문자열(str)\n",
        "\n",
        "a = 1000\n"
      ],
      "execution_count": null,
      "outputs": []
    },
    {
      "cell_type": "code",
      "metadata": {
        "id": "LKF_EkgNZFRO"
      },
      "source": [
        "# [2] 10, 20 값는 갖는 정수 객체 a, b를 사용하여\n",
        "# '10 + 20 = 30'을 출력한다\n",
        "# % 연산자, format 메서드, f-string 사용\n",
        "a, b = 10, 20\n"
      ],
      "execution_count": null,
      "outputs": []
    },
    {
      "cell_type": "markdown",
      "metadata": {
        "id": "FgHSIfCEE8QI"
      },
      "source": [
        "### 1-05.연산자"
      ]
    },
    {
      "cell_type": "code",
      "metadata": {
        "id": "cKi5QonEE7ow"
      },
      "source": [
        "# [1] 거듭제곱, 산술 연산자\n",
        "a, b = 10, 3\n",
        "\n",
        "# [1-1] a의 b승을 연산자와 함수를 사용하여 구해본다\n",
        "print()\n",
        "# [1-2] a와 b의 사칙연산(+, -, *, /)를 실행해 본다\n",
        "#       (나눗셈의 결과는 반올림하여 소수점아래 2개까지 표시)\n",
        "print()\n",
        "\n",
        "# [1-3] a와 b를 나누어 그 몫, 나머지를 연산자와 함수를 사용하여 구해본다\n",
        "print()"
      ],
      "execution_count": null,
      "outputs": []
    },
    {
      "cell_type": "code",
      "metadata": {
        "id": "dMllFPNWEYvU"
      },
      "source": [
        "# ** > *, /, //, % > +, -"
      ],
      "execution_count": null,
      "outputs": []
    },
    {
      "cell_type": "code",
      "metadata": {
        "id": "GRVdPRYGFyzj"
      },
      "source": [
        "# [2] (  )를 사용한 우선 순위 변경\n",
        "#     b와 c를 더한 결과를 a와 곱한 결과 구하기\n",
        "a, b, c = 10, 3, 1\n",
        "c = a * b + c\n",
        "print(c)"
      ],
      "execution_count": null,
      "outputs": []
    },
    {
      "cell_type": "code",
      "metadata": {
        "id": "VeNcwVa_GYMz"
      },
      "source": [
        "# [3] 비교 연산자 (==, !=, >, <, >=, <=) : 결과는 True/False\n",
        "a, b = 10, 5\n",
        "\n",
        "# [3-1] a와 b가 같다, 다르다의 결과 출력\n",
        "print()\n",
        "\n",
        "# [3-2] a가 b보다 크다(초과), 작다(미만)의 결과 출력\n",
        "print()\n",
        "\n",
        "# [3-3] a가 b보다 크거나 같다(이상), 작거나 같다(이하)의 결과 출력\n",
        "print()\n",
        "\n",
        "# [3-4] a가 5보다 크고, 15보다 작다\n",
        "print()"
      ],
      "execution_count": null,
      "outputs": []
    },
    {
      "cell_type": "code",
      "metadata": {
        "id": "HPwRSE8wGpVL"
      },
      "source": [
        "# [4] a, b의 값 비교(==), 주소 비교(is), 포함된 것인지 확인 (in) : 결과는 True/False\n",
        "a = 300\n",
        "b = 300\n",
        "print()\n",
        "print()"
      ],
      "execution_count": null,
      "outputs": []
    },
    {
      "cell_type": "code",
      "metadata": {
        "id": "Ohx17i5h_hLM"
      },
      "source": [
        "# [5] 논리 연산자 (and, or, not)\n",
        "a = 10\n",
        "\n",
        "# [5-1] a가 정수이고, 10보다 크다\n",
        "print()\n",
        "\n",
        "# [5-2] a가 정수이거나, 10보다 크다\n",
        "print()\n",
        "\n",
        "# [5-3] a가 0이다\n",
        "print()"
      ],
      "execution_count": null,
      "outputs": []
    },
    {
      "cell_type": "code",
      "metadata": {
        "id": "x1_ovRPtJJ55"
      },
      "source": [
        "# False/True 취급되는 객체\n",
        "# False로 취급되는 객체 : 0, 0.0, False, None, '', \"\", (), [], {}, set()\n",
        "# False가 아닌 객체들을 True로 취급"
      ],
      "execution_count": null,
      "outputs": []
    },
    {
      "cell_type": "code",
      "metadata": {
        "colab": {
          "base_uri": "https://localhost:8080/"
        },
        "id": "rRFXHgyBJdpa",
        "outputId": "4f9e68fb-f92c-4b7c-b139-90135b38aec3"
      },
      "source": [
        "bool(0), bool(0.0), bool(None), bool(''), bool(()), bool([]), bool({}), bool(set())"
      ],
      "execution_count": null,
      "outputs": [
        {
          "output_type": "execute_result",
          "data": {
            "text/plain": [
              "(False, False, False, False, False, False, False, False)"
            ]
          },
          "metadata": {},
          "execution_count": 66
        }
      ]
    },
    {
      "cell_type": "code",
      "metadata": {
        "colab": {
          "base_uri": "https://localhost:8080/"
        },
        "id": "nNPYUoBbJrN0",
        "outputId": "41970f04-f97d-4ca6-c40b-105ff1f59284"
      },
      "source": [
        "bool(10), bool(3.14), bool([1, 2, 3])"
      ],
      "execution_count": null,
      "outputs": [
        {
          "output_type": "execute_result",
          "data": {
            "text/plain": [
              "(True, True, True)"
            ]
          },
          "metadata": {},
          "execution_count": 67
        }
      ]
    },
    {
      "cell_type": "code",
      "metadata": {
        "id": "z8-6wa4ilhma"
      },
      "source": [
        "# [6] 연산자 활용 -1\n",
        "# 다음 숫자에 대해 각각 1, 2, 3이 출력되도록 {} 내부에 식을 작성하여 보도록 한다\n",
        "c = 123\n",
        "print(f'백의 자리 = {}, 십의 자리 = {}, 일의 자리 ={}')"
      ],
      "execution_count": null,
      "outputs": []
    },
    {
      "cell_type": "code",
      "metadata": {
        "colab": {
          "base_uri": "https://localhost:8080/"
        },
        "id": "EBZ3bk_iN5jO",
        "outputId": "edebb7b7-8554-4646-927d-ef324d2064be"
      },
      "source": [
        "c = 123\n",
        "c = str(c)  # 정수를 문자열로 형변환 '123'\n",
        "print(type(c))\n",
        "print(f'백의 자리 = {c[0]}, 십의 자리 = {c[1]}, 일의 자리 = {c[2]}')\n",
        "print(f'백의 자리 = {c[-3]}, 십의 자리 = {c[-2]}, 일의 자리 = {c[-1]}')"
      ],
      "execution_count": null,
      "outputs": [
        {
          "output_type": "stream",
          "name": "stdout",
          "text": [
            "<class 'str'>\n",
            "백의 자리 = 1, 십의 자리 = 2, 일의 자리 = 3\n",
            "백의 자리 = 1, 십의 자리 = 2, 일의 자리 = 3\n"
          ]
        }
      ]
    },
    {
      "cell_type": "code",
      "metadata": {
        "id": "D06OsngYlhig",
        "colab": {
          "base_uri": "https://localhost:8080/"
        },
        "outputId": "63bee3d2-99cf-4440-cd26-bc8fa6b87bbe"
      },
      "source": [
        "# [7] 연산자 활용 -2\n",
        "# a의 값을 1 증가시켜 출력해 보자\n",
        "a = 10\n",
        "\n",
        "print(a)"
      ],
      "execution_count": null,
      "outputs": [
        {
          "output_type": "stream",
          "name": "stdout",
          "text": [
            "11\n"
          ]
        }
      ]
    },
    {
      "cell_type": "code",
      "metadata": {
        "colab": {
          "base_uri": "https://localhost:8080/"
        },
        "id": "CB2Wd8eIOrAQ",
        "outputId": "ffdf6224-9c26-45f1-d83a-13ae02ec03db"
      },
      "source": [
        "a, b = 10, 5\n",
        "a += b\n",
        "print(a)"
      ],
      "execution_count": null,
      "outputs": [
        {
          "output_type": "stream",
          "name": "stdout",
          "text": [
            "15\n"
          ]
        }
      ]
    },
    {
      "cell_type": "code",
      "metadata": {
        "id": "wN5MuKghlhcx"
      },
      "source": [
        "# [8] Numeric type 끼리는 type이 달라도 연산 가능\n",
        "# 표현 범위가 넓은 type의 결과를 생성함  float > int > bool\n",
        "# int + float = float, int + bool = int\n",
        "a = 10 + 3.14\n",
        "b = 1 + True\n",
        "\n",
        "# a, b의 결과와 객체 type은 무엇일까?\n",
        "print(a, type(a))\n",
        "print(b, type(b))"
      ],
      "execution_count": null,
      "outputs": []
    },
    {
      "cell_type": "code",
      "metadata": {
        "id": "NPpzjl8olx_a"
      },
      "source": [
        "# [9] Container는 연산자 사용시 같은 type 끼리만 연산 가능\n",
        "# str, tuple, list => +, *\n",
        "# 필요시 container 형변환 list(b)\n",
        "a = [1, 2, 3]\n",
        "b = (4, 5)\n"
      ],
      "execution_count": null,
      "outputs": []
    },
    {
      "cell_type": "code",
      "source": [
        "# [10] bitwise (&, |),\n",
        "# and, or 연산을 사용하지 못할 경우 사용\n",
        "# bit 단위 연산, True -> 1, False -> 0\n",
        "a = 10\n",
        "\n",
        "# a가 정수이고, 10보다 크다\n",
        "print( )\n",
        "\n",
        "# a가 정수이거나, 10보다 크다\n",
        "print( )"
      ],
      "metadata": {
        "id": "0Co7nApk3jDy"
      },
      "execution_count": null,
      "outputs": []
    },
    {
      "cell_type": "code",
      "source": [
        "# [11] conditional expression\n",
        "# a의 값이 'F' 이면 '여자', 아니면 '남자 출력\n",
        "a = 'F'\n",
        "print( )\n",
        "\n",
        "# score가 60이상이면 '합격', 아니면 '불합격' 출력\n",
        "score = 78\n",
        "print( )"
      ],
      "metadata": {
        "id": "KTWgE7nO21OV"
      },
      "execution_count": null,
      "outputs": []
    },
    {
      "cell_type": "markdown",
      "metadata": {
        "id": "aSI-jCEuKa71"
      },
      "source": [
        "### 1-06.조건 작성 연습"
      ]
    },
    {
      "cell_type": "code",
      "metadata": {
        "id": "0fRVkDhBKiWy"
      },
      "source": [
        "a, b = 10, 5"
      ],
      "execution_count": null,
      "outputs": []
    },
    {
      "cell_type": "code",
      "metadata": {
        "id": "pzJHpmMKKacS"
      },
      "source": [
        "# [1] a와 b가 같은 값을 갖는다\n"
      ],
      "execution_count": null,
      "outputs": []
    },
    {
      "cell_type": "code",
      "metadata": {
        "id": "30uvoa0hKkbl"
      },
      "source": [
        "# [2] a가 b 이상이다\n"
      ],
      "execution_count": null,
      "outputs": []
    },
    {
      "cell_type": "code",
      "metadata": {
        "id": "sJR4nKMnKnuV"
      },
      "source": [
        "# [3] a가 짝수이다\n"
      ],
      "execution_count": null,
      "outputs": []
    },
    {
      "cell_type": "code",
      "metadata": {
        "colab": {
          "base_uri": "https://localhost:8080/"
        },
        "id": "KAiDqt8DTFaU",
        "outputId": "e8001c3f-f5f7-472a-e41f-fe53b89cf7de"
      },
      "source": [
        "# 여러 개의 객체를 콤마(,)를 사용하여 나열하면 tuple이 된다\n",
        "x = 1, 2, 3\n",
        "print(type(x), x)"
      ],
      "execution_count": null,
      "outputs": [
        {
          "output_type": "stream",
          "name": "stdout",
          "text": [
            "<class 'tuple'> (1, 2, 3)\n"
          ]
        }
      ]
    },
    {
      "cell_type": "code",
      "metadata": {
        "id": "3TG6LFI1KrhX"
      },
      "source": [
        "# [4] a가 3의 배수이다\n"
      ],
      "execution_count": null,
      "outputs": []
    },
    {
      "cell_type": "code",
      "metadata": {
        "id": "cWcOvEHZKy85"
      },
      "source": [
        "# [5] a는 80보다 크고 90보다 작다\n"
      ],
      "execution_count": null,
      "outputs": []
    },
    {
      "cell_type": "code",
      "metadata": {
        "id": "HJbgN0lmLA7K"
      },
      "source": [
        "# [6] a는 100 보다 크거나 0보다 작다\n"
      ],
      "execution_count": null,
      "outputs": []
    },
    {
      "cell_type": "markdown",
      "metadata": {
        "id": "CqhAiq6xStgH"
      },
      "source": [
        "### 1-07.input 함수"
      ]
    },
    {
      "cell_type": "code",
      "metadata": {
        "id": "ykhcrA1CStNz"
      },
      "source": [
        "# [1]  한 개 데이터를 입력 받아 그대로 출력해본다\n",
        "#      123을 입력받고, type을 출력해 보면 어떤 결과인지 확인하라.\n",
        "\n",
        "print(x, type(x))"
      ],
      "execution_count": null,
      "outputs": []
    },
    {
      "cell_type": "code",
      "metadata": {
        "id": "4KUt3EmZS-SV"
      },
      "source": [
        "# [2] 한 개 데이터를 입력 받아 int로 type을 변환하여 출력해 본다\n",
        "\n",
        "\n",
        "print(y, type(y))"
      ],
      "execution_count": null,
      "outputs": []
    },
    {
      "cell_type": "markdown",
      "metadata": {
        "id": "jpC2FD_o2WmC"
      },
      "source": [
        "### 1-08.형변환"
      ]
    },
    {
      "cell_type": "code",
      "metadata": {
        "id": "FgftuEriw0Ws"
      },
      "source": [
        "int() => 3.99 => 3, float(), bool(), str()"
      ],
      "execution_count": null,
      "outputs": []
    },
    {
      "cell_type": "code",
      "metadata": {
        "id": "YnS_hAROlgBS"
      },
      "source": [
        "# [1] 정수를 실수로 변환  (1 -> 1.0)\n",
        "\n",
        "print(r, type(r))"
      ],
      "execution_count": null,
      "outputs": []
    },
    {
      "cell_type": "code",
      "metadata": {
        "id": "3HY54aOQ2cyf"
      },
      "source": [
        "# [2] 실수를 정수로 변환 (3.56 -> 3)\n",
        "# 소수점 아래 잘림\n",
        "\n",
        "print(r, type(r))"
      ],
      "execution_count": null,
      "outputs": []
    },
    {
      "cell_type": "code",
      "metadata": {
        "id": "7daMqPJm2gHz"
      },
      "source": [
        "# [3] 문자열을 정수, 실수로 변환\n",
        "# (\"123\" -> 123,  \"3.14\" -> 3.14)\n",
        "\n",
        "print(a, b, type(a), type(b))"
      ],
      "execution_count": null,
      "outputs": []
    },
    {
      "cell_type": "code",
      "metadata": {
        "id": "pBUd5FPV2kgO",
        "colab": {
          "base_uri": "https://localhost:8080/"
        },
        "outputId": "f7d58bb2-acfb-47a2-f934-35ee9a539d96"
      },
      "source": [
        "# [4] bool을 정수로 변환\n",
        "#     (False -> 0, True -> 1)\n",
        "r = int(True)\n",
        "print(r, type(r))"
      ],
      "execution_count": null,
      "outputs": [
        {
          "output_type": "stream",
          "name": "stdout",
          "text": [
            "1 <class 'int'>\n"
          ]
        }
      ]
    },
    {
      "cell_type": "code",
      "metadata": {
        "id": "dc3EuQlq2p6x"
      },
      "source": [
        "# [5] 정수를 bool 타입으로 변환\n",
        "# (1 -> True) (0 -> False)\n",
        "\n",
        "print(r, type(r))"
      ],
      "execution_count": null,
      "outputs": []
    },
    {
      "cell_type": "code",
      "metadata": {
        "id": "vhGYxvnZ2sYo"
      },
      "source": [
        "# [6] 정수를 문자열로 변환(10 -> '10')\n",
        "\n",
        "print(r, type(r))"
      ],
      "execution_count": null,
      "outputs": []
    },
    {
      "cell_type": "markdown",
      "metadata": {
        "id": "3ZSWNA9ng7jY"
      },
      "source": [
        "### 1-09.함수(function)\n",
        "- 함수 :  입력 데이터를 가지고 처리하여 결과를 반환하는 명령의 묶음\n",
        "- 함수의 구성 : parameter, operation, return\n",
        "- built-in 함수, 외부 함수 등 다양하게 준비된 함수가 있음\n",
        "- 사용자가 만들어 사용할 수 있음\n",
        "- 함수 vs 메서드(method)\n",
        "   - 함수는 module(=파일)에서 가지고 있는 기능을 의미한다\n",
        "   - 메서드는 class 내부에 작성된 함수이다\n",
        "   - 함수와 메서드에 접근하기 위해서는 '.' 연산자를 사용하여 접근하도록 한다"
      ]
    },
    {
      "cell_type": "code",
      "metadata": {
        "colab": {
          "base_uri": "https://localhost:8080/"
        },
        "id": "xCcGhUZViXW6",
        "outputId": "6fbef871-c013-469c-e09a-856369d4f240"
      },
      "source": [
        "def func(a, b):   # parameter - 이름\n",
        "    c = a + b\n",
        "    d = a - b\n",
        "    return c, d\n",
        "\n",
        "r = func(10, 30)   # argument - 객체\n",
        "print(r)"
      ],
      "execution_count": null,
      "outputs": [
        {
          "output_type": "stream",
          "name": "stdout",
          "text": [
            "(40, -20)\n"
          ]
        }
      ]
    },
    {
      "cell_type": "code",
      "metadata": {
        "id": "tft6rU-90M-0"
      },
      "source": [
        "# 반드시 실행해서 a를 tuple 객체로 만들어 주세요.\n",
        "a = 1, 5, 3, 7, 2"
      ],
      "execution_count": null,
      "outputs": []
    },
    {
      "cell_type": "code",
      "metadata": {
        "id": "l9s7mkjuj4Qq"
      },
      "source": [
        "# [1] a의 합을 구한다\n"
      ],
      "execution_count": null,
      "outputs": []
    },
    {
      "cell_type": "code",
      "metadata": {
        "id": "AZ0FanSijrEh"
      },
      "source": [
        "# [2] a의 item 중에서 가장 큰 것을 구한다.\n"
      ],
      "execution_count": null,
      "outputs": []
    },
    {
      "cell_type": "code",
      "metadata": {
        "id": "jsP7uZzTj2FG"
      },
      "source": [
        "# [3] a의 item 중에서 가장 작은 것을 구한다.\n"
      ],
      "execution_count": null,
      "outputs": []
    },
    {
      "cell_type": "markdown",
      "source": [
        "- **영상 강의에 포함된 sys.getsizeof(a) 관련 내용 및, a.index(7) 는 학습하지 않으셔도 됩니다 ^_^!**"
      ],
      "metadata": {
        "id": "d2Ic1BrPidYL"
      }
    },
    {
      "cell_type": "code",
      "metadata": {
        "id": "CdL5tixgPo1s",
        "colab": {
          "base_uri": "https://localhost:8080/"
        },
        "outputId": "1caa8e5e-483a-4e61-cdef-8b1a4ad4d59b"
      },
      "source": [
        "# [4] 반올림을 한다\n",
        "# round(x [,ndigits])\n",
        "# ndigits는 음수, 0, 양수 일 수 있음\n",
        "# x에 대해 ndigits에 따라 반올림\n",
        "num = 863.256\n",
        "print(round(num, 2))\n",
        "print(round(num, 1))\n",
        "print(round(num, 0))\n",
        "print(round(num, -1))\n",
        "print(round(num, -2))"
      ],
      "execution_count": null,
      "outputs": [
        {
          "output_type": "stream",
          "name": "stdout",
          "text": [
            "863.26\n",
            "863.3\n",
            "863.0\n",
            "860.0\n",
            "900.0\n"
          ]
        }
      ]
    },
    {
      "cell_type": "markdown",
      "metadata": {
        "id": "gyiiU4uVDt7W"
      },
      "source": [
        "## Section 2 : Containers"
      ]
    },
    {
      "cell_type": "markdown",
      "metadata": {
        "id": "vaoOOWIMHL-P"
      },
      "source": [
        "![image.png](data:image/png;base64,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)"
      ]
    },
    {
      "cell_type": "code",
      "metadata": {
        "id": "uFcoPSUW5H9F"
      },
      "source": [
        "Container : 여러 개의 객체(object)를 묶어서 사용하는 것\n",
        "Sequences : 순서가 있음, 순서번호(index)가 양수, 음수 2개 부여됨\n",
        " - tuple : item의 type에 제약이 없음, 수정(=갱신), 삭제, 추가가 불가능, 참조(Read only)\n",
        " - list : item의 type에 제약이 없음, 변경이 가능한 객체\n",
        " - str : item으로 text만 가질 수 있음, 변경이 불가능한 객체\n",
        "Set types : {1, 2, 3}  => Set의 item은 immutable한 성격을 갖는다.\n",
        " - tuple, str, int, float, bool\n",
        "Mappings : {'A': 10, 'B': 20}\n",
        "=> Dict의 item은 key:value의 쌍으로 이루어짐\n",
        " - key는 immutable한 성격을 갖는다, value는 type에 제약이 없음\n",
        " - set, dict : 순서가 없음 (index가 없음), 추가, 삭제, 수정 등이 가능\n",
        "\n",
        "=> item의 개수가 많아지면 사용되는 메모리가 증가"
      ],
      "execution_count": null,
      "outputs": []
    },
    {
      "cell_type": "markdown",
      "source": [
        "### 2-00.range\n",
        "- 생성방법\n",
        "   - stop, start, step은 정수\n",
        "   - range(stop)  : 0 ~ stop -1까지의 범위\n",
        "   - range(start, stop) : start ~ stop-1 까지의 범위\n",
        "   - range(start, stop, step) : start ~ stop-1까지 step 씩 이동하는 범위\n",
        "- range는 수정이 불가능함\n"
      ],
      "metadata": {
        "id": "x-Sda5EFDbDs"
      }
    },
    {
      "cell_type": "code",
      "metadata": {
        "id": "g6XS7VQN8Sfl"
      },
      "source": [
        "range(1.5)"
      ],
      "execution_count": null,
      "outputs": []
    },
    {
      "cell_type": "code",
      "metadata": {
        "id": "ENihKsch7agC"
      },
      "source": [
        "# [1] 0 ~ 4의 범위의 range 함수와 list를 사용해\n",
        "# [0, 1, 2, 3, 4] 값을 갖는 list 생성\n"
      ],
      "execution_count": null,
      "outputs": []
    },
    {
      "cell_type": "code",
      "metadata": {
        "id": "5nGx0wjg7oId"
      },
      "source": [
        "# [2] 1 ~ 5의 범위의 range 함수와 list를 사용해\n",
        "# [1, 2, 3, 4, 5] 값을 갖는 list 생성\n"
      ],
      "execution_count": null,
      "outputs": []
    },
    {
      "cell_type": "code",
      "metadata": {
        "id": "UhC9X6WA7yZb"
      },
      "source": [
        "# [3] 1 ~ 19에서 2씩 이동하는 범위의 range 함수와 list를 사용해\n",
        "#     [1, 3, 5, 7, 9, 11, 13, 15, 17, 19] 값을 갖는 list 생성\n"
      ],
      "execution_count": null,
      "outputs": []
    },
    {
      "cell_type": "markdown",
      "metadata": {
        "id": "3aBFso_NAIfA"
      },
      "source": [
        "### 2-01.Sequence type의 Index 사용\n",
        "- subscription : Sequence Container에서 특정 item을 가져오는 것 (=indexing)\n",
        "- index 번호를 사용하여 특정 item을 선택한다\n",
        "  - 인덱스는 순서를 나타내는 정수로 허용 범위가 아닌 경우 IndexError가 발생한다\n",
        "  - 인덱스는 0번부터 시작하여 1씩 증가하며, 아이템 개수 -1 까지만 사용가능 하다\n",
        "  - 음수 인덱스의 경우 -1이 마지막 아이템의 위치를 뜻한다\n",
        "\n",
        "  ![image.png](data:image/png;base64,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)\n",
        "\n",
        "- slicing : slice(start:stop:step)을 사용하여 부분 container를 가져오는 것\n",
        "    - 문자열 slicing -> 부분 문자열\n",
        "    - 리스트 slicing -> 부분 리스트\n",
        "- start, stop, step : 생략가능\n",
        "    - start=0, stop=len(x), step=1 : default 값   \n",
        "    - 모두 생략시에는 ':' 은 포함해야 함\n",
        "    - len(x) 는 x의 item 개수를 반환하는 함수\n",
        "\n",
        "      ![image.png](data:image/png;base64,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)\n",
        "- list의 경우  Mutable이기 때문에 subscription, slicing을 사용한 갱신이 가능함\n",
        "   - a가 list인 경우\n",
        "   - a[n] = x     # a의 n index의 값을 x로 변경\n",
        "   - a[s:e] = [x, y, z] # a의 s부터 e-1의 값을 x, y, z으로 변경"
      ]
    },
    {
      "cell_type": "code",
      "metadata": {
        "id": "yOGNIFTGWKdF"
      },
      "source": [
        "mystr = \"801210-2123423\""
      ],
      "execution_count": null,
      "outputs": []
    },
    {
      "cell_type": "code",
      "metadata": {
        "id": "kQuiykofE6NT"
      },
      "source": [],
      "execution_count": null,
      "outputs": []
    },
    {
      "cell_type": "code",
      "metadata": {
        "id": "11XzSFcGGGxv"
      },
      "source": [
        "mytuple = (1, 4, 6, 2, 3, 8)"
      ],
      "execution_count": null,
      "outputs": []
    },
    {
      "cell_type": "code",
      "metadata": {
        "id": "M1nwX38LOTIX"
      },
      "source": [],
      "execution_count": null,
      "outputs": []
    },
    {
      "cell_type": "code",
      "metadata": {
        "id": "U-dmb6tiEGGV"
      },
      "source": [
        "mylist = [7, 3, 8, 9, 1, 4]"
      ],
      "execution_count": null,
      "outputs": []
    },
    {
      "cell_type": "code",
      "source": [],
      "metadata": {
        "id": "RhqYIhi-B1_x"
      },
      "execution_count": null,
      "outputs": []
    },
    {
      "cell_type": "code",
      "metadata": {
        "id": "l3QjUq6vSRHa",
        "colab": {
          "base_uri": "https://localhost:8080/"
        },
        "outputId": "6b95474f-40c4-42b7-86c1-31639df67a2c"
      },
      "source": [
        "# [1] mylist 객체를 사용해 결과와 동일하도록 slice를 채워 보세요\n",
        "#  start에 음수 index를 사용할 것\n",
        "mylist = [7, 3, 8, 9, 1, 4]\n",
        "mylist[]"
      ],
      "execution_count": null,
      "outputs": [
        {
          "output_type": "execute_result",
          "data": {
            "text/plain": [
              "[1, 4]"
            ]
          },
          "metadata": {},
          "execution_count": 1
        }
      ]
    },
    {
      "cell_type": "code",
      "metadata": {
        "id": "9o5kB0XOgNpe"
      },
      "source": [
        "# [2] mylist의 내용을 뒤집어 list를 생성해 보세요\n",
        "mylist[]   # 뒤집기"
      ],
      "execution_count": null,
      "outputs": []
    },
    {
      "cell_type": "code",
      "metadata": {
        "id": "vJfheHM6gSut"
      },
      "source": [
        "# [3] mylist의 마지막에 한 개의 item을 제외하고 list를 생성해 보세요\n"
      ],
      "execution_count": null,
      "outputs": []
    },
    {
      "cell_type": "code",
      "metadata": {
        "id": "im718BlGxwYu"
      },
      "source": [
        "# [4] mylist[2]의 값을 0으로 수정해 보세요.\n"
      ],
      "execution_count": null,
      "outputs": []
    },
    {
      "cell_type": "code",
      "metadata": {
        "id": "o3SbRcNrEX1f"
      },
      "source": [
        "# [5] mylist[2:3]의 값을 [10, 20, 30]으로 수정해 보세요.\n"
      ],
      "execution_count": null,
      "outputs": []
    },
    {
      "cell_type": "code",
      "metadata": {
        "id": "p6txJBBFEoyM"
      },
      "source": [
        "# [6] mystr에서 year, month, day, gender 정보를 찾아 출력하라\n",
        "mystr = \"801210-2123423\"\n",
        "year, month, day =\n",
        "gender =\n",
        "print(year, month, day, gender)"
      ],
      "execution_count": null,
      "outputs": []
    },
    {
      "cell_type": "code",
      "metadata": {
        "id": "c6tstHgemn-a"
      },
      "source": [
        "# [7] slicing을 사용해 날짜와 날씨를 분리하여 저장하고, 출력해 보세요.\n",
        "day = '210901Windy'\n",
        "date, weather =\n",
        "print(date, weather)"
      ],
      "execution_count": null,
      "outputs": []
    },
    {
      "cell_type": "markdown",
      "metadata": {
        "id": "DmNJbOdrITkq"
      },
      "source": [
        "### 2-02.Sequence type의 연산\n",
        "- 덧셈 : 두 Container를 합친 Container 생성\n",
        "- 곱셈 : Container를 n 번 복제한 Container 생성\n",
        "- 같은 type의 Container 끼리 덧셈 가능"
      ]
    },
    {
      "cell_type": "code",
      "metadata": {
        "id": "EihP52hcDs56"
      },
      "source": [
        "# [1] 덧셈 사용 : a와 b 객체를 연결해서 하나의 객체를 생성합니다.\n",
        "a, b = [1, 2, 3], [4, 5]\n"
      ],
      "execution_count": null,
      "outputs": []
    },
    {
      "cell_type": "code",
      "metadata": {
        "id": "YmmaY07YGRLd"
      },
      "source": [
        "# [2] 정수와의 곱셈 사용 : a 객체를 3번 복제해서 9개의 item을 갖는 객체를 생성합니다.\n",
        "a = [1, 2, 3]\n"
      ],
      "execution_count": null,
      "outputs": []
    },
    {
      "cell_type": "code",
      "metadata": {
        "id": "y6sg4ObAIljB"
      },
      "source": [
        "# [3] 서로 다른 container는 덧셈 연산할 수 없음 => type 변경을 한 뒤에 연산\n",
        "a, b = [1, 2, 3], (4, 5)\n"
      ],
      "execution_count": null,
      "outputs": []
    },
    {
      "cell_type": "markdown",
      "metadata": {
        "id": "SJAg03X2RPWb"
      },
      "source": [
        "### 2-03.tuple 특징 및 생성\n",
        "- 다양한 생성방법이 있음, 한 개의 item일 경우 콤마(,)가 필요함\n",
        "   - (1, )\n",
        "   - (1, 2, 3)\n",
        "   - 1,\n",
        "   - 1, 2, 3\n",
        "   - tuple(), tuple(iterable)\n",
        "   - 주의 : (1) 은 tuple 아님\n",
        "- 한 번 생성하면 변경할 수 없음 (Immutable)\n",
        "- item의 type에 제한 없음\n"
      ]
    },
    {
      "cell_type": "code",
      "metadata": {
        "id": "TD7Yqkzv3Nlz"
      },
      "source": [
        "a = (1, 2, 3)\n",
        "# exception 확인\n",
        "a[0] = 1"
      ],
      "execution_count": null,
      "outputs": []
    },
    {
      "cell_type": "code",
      "metadata": {
        "id": "smtIposp3Woz"
      },
      "source": [
        "# [1] 1이라는 한 개의 item을 갖는 tuple을 생성합니다.\n",
        "\n",
        "print(a, type(a))"
      ],
      "execution_count": null,
      "outputs": []
    },
    {
      "cell_type": "code",
      "metadata": {
        "id": "k36xlrP6Uxk8",
        "collapsed": true
      },
      "source": [
        "# [2] 1, 3, 5, 7, 9를 item으로 하는 tuple을 생성합니다.\n",
        "\n",
        "print(a, type(a))"
      ],
      "execution_count": null,
      "outputs": []
    },
    {
      "cell_type": "markdown",
      "metadata": {
        "id": "OzLeNCVETvLl"
      },
      "source": [
        "### 2-04.list 특징 및 생성\n",
        "- 다양한 생성방법이 있음\n",
        "   - [1], [1, 2, 3]\n",
        "   - list(), list(iterable)\n",
        "- 생성 후 변경할 수 있음 (Mutable)\n",
        "   - 연산 및 메서드를 사용한 삽입, 삭제, 갱신, 정렬 등의 작업이 가능함\n",
        "- item의 type에 제한 없음\n"
      ]
    },
    {
      "cell_type": "code",
      "metadata": {
        "id": "8xFXz9kOlnVt"
      },
      "source": [
        "# [1] 0 ~ 9를 item으로 하는 list를 생성합니다\n",
        "\n",
        "print(a, type(a))"
      ],
      "execution_count": null,
      "outputs": []
    },
    {
      "cell_type": "code",
      "metadata": {
        "id": "NGw4l1JhWTGr"
      },
      "source": [
        "# [2] mylist의 두 번째 item을 100으로 수정하여 출력합니다\n",
        "mylist = [10, 20, 30, 40]\n",
        "\n",
        "print(mylist)"
      ],
      "execution_count": null,
      "outputs": []
    },
    {
      "cell_type": "markdown",
      "metadata": {
        "id": "JYrstplUhWSn"
      },
      "source": [
        "### 2-05.list의 메서드(method)\n",
        "- list 관련 연산, 메서드: https://docs.python.org/3/library/stdtypes.html#index-22\n"
      ]
    },
    {
      "cell_type": "markdown",
      "metadata": {
        "id": "CTRk7_Y3BnGf"
      },
      "source": [
        "![image.png](data:image/png;base64,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)"
      ]
    },
    {
      "cell_type": "code",
      "metadata": {
        "id": "dyaAIeV2irxp"
      },
      "source": [
        "# list.append(object) : list의 맨 뒤에 한 개 item을 추가합니다.\n",
        "# [1] 300을 mylist의 맨 뒤에 추가합니다.\n",
        "mylist = [1,2,3,1,2,3,4]\n"
      ],
      "execution_count": null,
      "outputs": []
    },
    {
      "cell_type": "code",
      "metadata": {
        "id": "wK4ww9-YjI-a"
      },
      "source": [
        "# list.extend(iterable) : list 맨 뒤에 여러 item을 추가합니다\n",
        "# [2] mylist 리스트의 뒤에 b를 넣어 확장합니다.\n",
        "b = (100, 200)\n",
        "mylist = [1,2,3,1,2,3,4]\n"
      ],
      "execution_count": null,
      "outputs": []
    },
    {
      "cell_type": "code",
      "metadata": {
        "colab": {
          "base_uri": "https://localhost:8080/"
        },
        "id": "j3pL08ojcaiT",
        "outputId": "fcda08e7-ade2-4cfe-d101-a51aee300783"
      },
      "source": [
        "b = [100, 200]\n",
        "mylist = [1,2,3,1,2,3,4]\n",
        "mylist += b\n",
        "#mylist = mylist + b\n",
        "mylist"
      ],
      "execution_count": null,
      "outputs": [
        {
          "output_type": "execute_result",
          "data": {
            "text/plain": [
              "[1, 2, 3, 1, 2, 3, 4, 100, 200]"
            ]
          },
          "metadata": {},
          "execution_count": 73
        }
      ]
    },
    {
      "cell_type": "markdown",
      "metadata": {
        "id": "xYTxunoAk3jK"
      },
      "source": [
        "### 2-06.str의 주요 메서드(method)\n",
        "- str관련 함수, 메서드 : https://docs.python.org/3/library/stdtypes.html#string-methods"
      ]
    },
    {
      "cell_type": "code",
      "metadata": {
        "id": "UG0Yj63nllCf"
      },
      "source": [
        "# 문자열의 길이 구하기\n",
        "# len(container) => int 반환\n",
        "# [1] a의 길이를 출력해 보세요\n",
        "a = \"Hello\"\n"
      ],
      "execution_count": null,
      "outputs": []
    },
    {
      "cell_type": "code",
      "metadata": {
        "id": "axSKHRL4j9Wm"
      },
      "source": [
        "a = '가나다'\n",
        "b = len(a)\n",
        "print(b)"
      ],
      "execution_count": null,
      "outputs": []
    },
    {
      "cell_type": "code",
      "metadata": {
        "id": "t-5xIRR1gBZY"
      },
      "source": [
        "# [2] 대문자, 소문자 변경 => 문자열 반환\n",
        "a = 'Good Morning!'\n"
      ],
      "execution_count": null,
      "outputs": []
    },
    {
      "cell_type": "code",
      "metadata": {
        "id": "sQXcIscNgK62"
      },
      "source": [
        "# [3] 대문자, 소문자 확인 => True/False 반환\n",
        "a = 'happy!!!'\n"
      ],
      "execution_count": null,
      "outputs": []
    },
    {
      "cell_type": "code",
      "metadata": {
        "id": "IDWwZiZVlu9v"
      },
      "source": [
        "# [4] 문자열 분리(split)\n",
        "# 문자열의 split 함수를 사용하면 문자열의 list 반환\n",
        "# str.split(sep:str) => 리스트 반환\n",
        "\n",
        "# a를 ':'를  seperator로 하여 분리하여 보세요.\n",
        "a = \"A:B:C:D\"\n"
      ],
      "execution_count": null,
      "outputs": []
    },
    {
      "cell_type": "code",
      "metadata": {
        "id": "QBqc8n_AlwNj",
        "colab": {
          "base_uri": "https://localhost:8080/",
          "height": 36
        },
        "outputId": "d0ce171e-0bae-4c8c-9897-6a0123c5af0c"
      },
      "source": [
        "# whitespace 문자\n",
        "# https://docs.python.org/3/library/string.html\n",
        "import string\n",
        "string.whitespace"
      ],
      "execution_count": null,
      "outputs": [
        {
          "output_type": "execute_result",
          "data": {
            "application/vnd.google.colaboratory.intrinsic+json": {
              "type": "string"
            },
            "text/plain": [
              "' \\t\\n\\r\\x0b\\x0c'"
            ]
          },
          "metadata": {},
          "execution_count": 90
        }
      ]
    },
    {
      "cell_type": "code",
      "metadata": {
        "id": "GU6-1E6jlxev",
        "colab": {
          "base_uri": "https://localhost:8080/",
          "height": 73
        },
        "outputId": "05fec167-373d-4a77-e230-9b70c515d079"
      },
      "source": [
        "# split의 구분자를 지정하지 않으면?\n",
        "# 연속된 whitespace 문자를 1개의 구분자로 취급합니다.\n",
        "# 구분자를 지정하지 않은 경우와 공백(' ')을 지정한 경우를 비교해 보세요.\n",
        "a = '    A   B  C   '    #'\\t\\nA\\nB     C   \\n\\r'\n",
        "b = a.split()     # 권장\n",
        "c = a.split(' ')  # 비권장\n",
        "display(a, b, c)"
      ],
      "execution_count": null,
      "outputs": [
        {
          "output_type": "display_data",
          "data": {
            "application/vnd.google.colaboratory.intrinsic+json": {
              "type": "string"
            },
            "text/plain": [
              "'    A   B  C   '"
            ]
          },
          "metadata": {}
        },
        {
          "output_type": "display_data",
          "data": {
            "text/plain": [
              "['A', 'B', 'C']"
            ]
          },
          "metadata": {}
        },
        {
          "output_type": "display_data",
          "data": {
            "text/plain": [
              "['', '', '', '', 'A', '', '', 'B', '', 'C', '', '', '']"
            ]
          },
          "metadata": {}
        }
      ]
    },
    {
      "cell_type": "code",
      "metadata": {
        "id": "yEGOtT6Zn4fk"
      },
      "source": [
        "a = '    A   B  C   '\n",
        "c = ''.join(a.split())\n",
        "print(c)"
      ],
      "execution_count": null,
      "outputs": []
    },
    {
      "cell_type": "code",
      "metadata": {
        "id": "ErG5NNZHl-IL"
      },
      "source": [
        "# [5] 특정 횟수 만큼만 split 작업이 필요하다면 maxsplit 옵션을 사용한다\n",
        "# 1번만 split 작업하여 보도록 합니다.\n",
        "a = '2021-3-4'\n"
      ],
      "execution_count": null,
      "outputs": []
    },
    {
      "cell_type": "code",
      "metadata": {
        "id": "nAl0K2AZmWK5"
      },
      "source": [
        "# [6] 오른쪽부터 왼쪽 방향으로 split 작업이 필요하다면\n",
        "# rsplit 메서드를 사용한다\n",
        "a = '2021-3-4'\n"
      ],
      "execution_count": null,
      "outputs": []
    },
    {
      "cell_type": "code",
      "metadata": {
        "id": "JNwHPltSly6S"
      },
      "source": [
        "# [7] 구분자문자열.join(문자열을 item으로 하는 iterable)\n",
        "# '-'를 구분자로 하여, a를 join 하도록 합니다.\n",
        "a = ['2020', '07', '13']\n"
      ],
      "execution_count": null,
      "outputs": []
    },
    {
      "cell_type": "code",
      "metadata": {
        "id": "oDk53Caul2fK"
      },
      "source": [
        "# [8] ('A', 'B', 'C', 'D') 를 'A:B:C:D'로 작성해 보세요\n",
        "a = ('A', 'B', 'C', 'D')\n"
      ],
      "execution_count": null,
      "outputs": []
    },
    {
      "cell_type": "code",
      "metadata": {
        "id": "WXGMfYTIl4Jb"
      },
      "source": [
        "# str.strip()\n",
        "# 문자열 앞/뒤의 연속된 whitespace 문자 제거\n",
        "# [9] a 문자열의 앞/뒤 연속된 whitespace 문자를\n",
        "# 제거하여 b 라는 이름을 부여합니다.\n",
        "a = \"    A   B   \"\n"
      ],
      "execution_count": null,
      "outputs": []
    },
    {
      "cell_type": "code",
      "metadata": {
        "id": "QyGPRcphiz2R"
      },
      "source": [
        "e = 'www.jaen.com'\n",
        "f = e.strip('wocm')\n",
        "display(f)"
      ],
      "execution_count": null,
      "outputs": []
    },
    {
      "cell_type": "code",
      "source": [
        "# [10] 문자열의 시작이 'edu'인지 확인합니다.\n",
        "a = 'eduatoz'\n"
      ],
      "metadata": {
        "id": "PkDf_6cUMHat"
      },
      "execution_count": null,
      "outputs": []
    },
    {
      "cell_type": "code",
      "metadata": {
        "id": "SugkjDi5l0TW"
      },
      "source": [
        "# [11] 문자열의 끝이 'atoz'인지 확인합니다.\n",
        "a = 'eduatoz'\n"
      ],
      "execution_count": null,
      "outputs": []
    },
    {
      "cell_type": "code",
      "source": [
        "# 'edu'가 a에 포함되어 있는지 확인합니다.\n",
        "# in은 연산자이며, 위치와 상관없이 포함된 경우 True를 반환합니다.\n",
        "a = 'eduatoz'\n"
      ],
      "metadata": {
        "id": "d_urSauJMJJs"
      },
      "execution_count": null,
      "outputs": []
    },
    {
      "cell_type": "markdown",
      "metadata": {
        "id": "Xiqimyogq7aG"
      },
      "source": [
        "### 2-07.set의 특징 및 생성\n",
        "- 다양한 생성방법이 있음\n",
        "   - {1}, {1, 2, 3}\n",
        "   - set(), set(iterable)\n",
        "- 생성 후 변경할 수 있음 (Mutable) : 연산 및 메서드를 사용한 삽입, 삭제, 갱신 등의 작업이 가능함\n",
        "- item은 hashable 이어야 함 : hashable - int, float, bool, str, tuple 등\n",
        "- 중복 item 제거 용도로 주로 사용됨\n"
      ]
    },
    {
      "cell_type": "code",
      "metadata": {
        "colab": {
          "base_uri": "https://localhost:8080/"
        },
        "id": "fo1VaU2Q97pV",
        "outputId": "84d1b860-9a78-41c0-fc7e-1b672a1e7093"
      },
      "source": [
        "a = ()\n",
        "b = []\n",
        "c = {}   # dict\n",
        "d = set()\n",
        "print(type(a), type(b), type(c), type(d))"
      ],
      "execution_count": null,
      "outputs": [
        {
          "output_type": "stream",
          "name": "stdout",
          "text": [
            "<class 'tuple'> <class 'list'> <class 'dict'> <class 'set'>\n"
          ]
        }
      ]
    },
    {
      "cell_type": "code",
      "metadata": {
        "id": "K7amivP6qxd4"
      },
      "source": [
        "# [1] 집합 묶음 기호를 사용한 생성\n",
        "a = {'a', 'b', 'c'}\n",
        "print(a)"
      ],
      "execution_count": null,
      "outputs": []
    },
    {
      "cell_type": "code",
      "metadata": {
        "id": "vNka5Ti_rbsn"
      },
      "source": [
        "# [2] 생성자 set()를 사용한 중복 제거\n",
        "a = [1, 2, 3, 1, 2, 2, 3, 4]\n"
      ],
      "execution_count": null,
      "outputs": []
    },
    {
      "cell_type": "code",
      "metadata": {
        "colab": {
          "base_uri": "https://localhost:8080/"
        },
        "id": "w_dZst-F70mS",
        "outputId": "bd05100f-696a-416e-ac6d-5df447f1b663"
      },
      "source": [
        "# [3] 다음의 결과는 무엇일까요?\n",
        "a = {1, 1.0, True}\n",
        "print(a)"
      ],
      "execution_count": null,
      "outputs": [
        {
          "output_type": "stream",
          "name": "stdout",
          "text": [
            "{1}\n"
          ]
        }
      ]
    },
    {
      "cell_type": "code",
      "metadata": {
        "id": "mm6n3nm_DIUA"
      },
      "source": [
        "print(hash(1), hash(1.0), hash(True))"
      ],
      "execution_count": null,
      "outputs": []
    },
    {
      "cell_type": "code",
      "metadata": {
        "id": "NUHlDvLaF1K6"
      },
      "source": [
        "1 == 1.0, 1.0 == True"
      ],
      "execution_count": null,
      "outputs": []
    },
    {
      "cell_type": "code",
      "metadata": {
        "id": "gRR1CDK6DQKB"
      },
      "source": [
        "print(hash(0), hash(0.0), hash(False))"
      ],
      "execution_count": null,
      "outputs": []
    },
    {
      "cell_type": "code",
      "metadata": {
        "colab": {
          "base_uri": "https://localhost:8080/"
        },
        "id": "9OBZnccSEjvZ",
        "outputId": "54dfd5c6-b9a6-4a6b-b12b-707db8c5ff63"
      },
      "source": [
        "a = (1,2,3,5,6,7,8,3,0)\n",
        "b = (1,2,3,5,6,7,8,3,0)\n",
        "hash(a), hash(b)"
      ],
      "execution_count": null,
      "outputs": [
        {
          "output_type": "execute_result",
          "data": {
            "text/plain": [
              "(3347983171351362422, 3347983171351362422)"
            ]
          },
          "metadata": {},
          "execution_count": 131
        }
      ]
    },
    {
      "cell_type": "markdown",
      "metadata": {
        "id": "AH0VXGRwtGDj"
      },
      "source": [
        "### 2-08.dict의 특징 및 생성\n",
        "- 딕셔너리는 key와 value의 쌍 여러 개와 { }로 구성됨\n",
        "    - dishes = {'eggs':2, 'sausage' :1, 'bacon':1, 'spam':500}\n",
        "- key를 사용하여 value를 얻음\n",
        "- item에 순서가 없음\n",
        "- key는 고유 값을 설정해야하며 hashable이어야 함    \n",
        "  - hashable : immutable한 객체 (str, tuple, int, float, bool)\n",
        "- 다양한 생성자 : 함수에 대한 parameter 학습 필요\n",
        "  - dict()\n",
        "  - dict(**kwargs)\n",
        "  - dict(mapping, **kwargs)\n",
        "  - dict(iterable, **kwargs)    "
      ]
    },
    {
      "cell_type": "code",
      "metadata": {
        "id": "6XvRwcDMtyuq"
      },
      "source": [
        "# key는 hashable만 사용할 수 있으며\n",
        "# hashable에는 int, float, bool, tuple, str 등이 있다.\n",
        "# [1] 다양한 type의 key를 갖는 dict 객체를 생성해 보자!\n",
        "a = {1: 'one', 'two': 2, (1, 2) : 'tuple', 3.14 : 'pi'}\n"
      ],
      "execution_count": null,
      "outputs": []
    },
    {
      "cell_type": "code",
      "metadata": {
        "id": "ejZA_nr1t2FW"
      },
      "source": [
        "# numeric의 True, 1, 1.0 은 같은 hash 값을 갖는다\n",
        "# numeric의 False, 0, 0.0 은 같은 hash 값을 갖는다\n",
        "\n",
        "# [2] 다음의 결과를 예측하세요! (^_^!!)\n",
        "x = {True : \"one\", 1 : \"One\", 1.0 : \"ONE\"}\n"
      ],
      "execution_count": null,
      "outputs": []
    },
    {
      "cell_type": "markdown",
      "metadata": {
        "id": "n2d-PvLYucu9"
      },
      "source": [
        "### 2-09.dict의 연산\n",
        "- key를 사용하여 value 얻기 : r = d[key]\n",
        "- 추가, 갱신 : d[key] = value\n",
        "   - key가 존재하면 갱신, 존재하지 않으면 추가\n",
        "- 삭제 : del d[key]\n",
        "- 얻기, 삭제 동작시 존재하지 않는 key를 사용하면 KeyError 발생"
      ]
    },
    {
      "cell_type": "code",
      "metadata": {
        "id": "vNFywTqrzEiL"
      },
      "source": [
        "# [1] dict 객체 생성\n",
        "mydict = {'Apple': '딸기', 'Watermelon': '수박'}\n",
        "print(mydict)"
      ],
      "execution_count": null,
      "outputs": []
    },
    {
      "cell_type": "code",
      "metadata": {
        "id": "nk7qpKM7l_2_"
      },
      "source": [
        "# [2] 'Apple' 에 대한 값을 찾아 출력\n"
      ],
      "execution_count": null,
      "outputs": []
    },
    {
      "cell_type": "code",
      "metadata": {
        "id": "p8i-ullJ5Iar"
      },
      "source": [
        "# [3] 'Apple'에 대한 값을 '사과'로 변경\n"
      ],
      "execution_count": null,
      "outputs": []
    },
    {
      "cell_type": "code",
      "metadata": {
        "id": "u6eHmackzXg1"
      },
      "source": [
        "# [4] 'Kiwi':'키위' item을 추가\n"
      ],
      "execution_count": null,
      "outputs": []
    },
    {
      "cell_type": "markdown",
      "metadata": {
        "id": "nv_GZhDCEboc"
      },
      "source": [
        "### 2-10. Comprehension\n",
        "- list, set, dict를 만드는 기법\n",
        "- [ object **for x in iterable** if 조건 ]\n",
        "   - iterable : 여러 개의 item을 갖는 Container 및 반복자\n",
        "   - for x in iterable : item을 만들기 위한 재료\n",
        "   - if 조건 : 재료의 유효성 검사 (사용할지 말지)\n",
        "   - object : item으로 사용될 객체 (연산식, 함수호출식 사용 가능)\n"
      ]
    },
    {
      "cell_type": "code",
      "metadata": {
        "colab": {
          "base_uri": "https://localhost:8080/"
        },
        "id": "EpjNDkJ7wDDz",
        "outputId": "817231c7-cb82-4d7a-b3df-d63062929628"
      },
      "source": [
        "[x*2 for x in range(1, 5) if not x%2]"
      ],
      "execution_count": null,
      "outputs": [
        {
          "output_type": "execute_result",
          "data": {
            "text/plain": [
              "[4, 8]"
            ]
          },
          "metadata": {},
          "execution_count": 5
        }
      ]
    },
    {
      "cell_type": "code",
      "metadata": {
        "colab": {
          "base_uri": "https://localhost:8080/"
        },
        "id": "akFyPlDMxFG7",
        "outputId": "f8c6c789-103a-407a-e1d1-55abb22fcd53"
      },
      "source": [
        "a = input().split()\n",
        "print(a)"
      ],
      "execution_count": null,
      "outputs": [
        {
          "output_type": "stream",
          "name": "stdout",
          "text": [
            "1 2 3 4 5\n",
            "['1', '2', '3', '4', '5']\n"
          ]
        }
      ]
    },
    {
      "cell_type": "code",
      "metadata": {
        "colab": {
          "base_uri": "https://localhost:8080/"
        },
        "id": "jRkSz_GexOVR",
        "outputId": "9adffc9f-8286-483a-9cc9-c87f3cf2438f"
      },
      "source": [
        "a = [int(x) for x in input().split()]\n",
        "print(a)"
      ],
      "execution_count": null,
      "outputs": [
        {
          "output_type": "stream",
          "name": "stdout",
          "text": [
            "1 2 3 4 5\n",
            "[1, 2, 3, 4, 5]\n"
          ]
        }
      ]
    },
    {
      "cell_type": "code",
      "metadata": {
        "id": "BoT_gUU35Kl2"
      },
      "source": [
        "# [1] '0', '1', '2', '3', ... '9'를\n",
        "# item으로 갖는 list를 작성해 보자\n"
      ],
      "execution_count": null,
      "outputs": []
    },
    {
      "cell_type": "code",
      "metadata": {
        "id": "fv8HUJuJEafe"
      },
      "source": [
        "# [2] 2**0, 2**1, 2**2, 2**3, ...2**9를\n",
        "# item으로 갖는 list를 작성해 보자\n"
      ],
      "execution_count": null,
      "outputs": []
    },
    {
      "cell_type": "code",
      "metadata": {
        "id": "uV5NaVbGEra9"
      },
      "source": [
        "# [3] 1**2, 2**2, 3**2, 4**2, ... 9**2를\n",
        "# item으로 갖는 set을 작성해 보자\n"
      ],
      "execution_count": null,
      "outputs": []
    },
    {
      "cell_type": "code",
      "metadata": {
        "id": "zLsAFHbdE1Ke"
      },
      "source": [
        "# [4] key:value의 item을 value가 key로 사용되고,\n",
        "# key가 value로 사용되도록 변경하여보자\n",
        "a = {'A': 1, 'B': 2, 'C': 3}\n"
      ],
      "execution_count": null,
      "outputs": []
    },
    {
      "cell_type": "code",
      "metadata": {
        "colab": {
          "base_uri": "https://localhost:8080/"
        },
        "id": "5ExLiuth3YFy",
        "outputId": "1f1c1224-9ef1-46b0-a805-ee7237d73365"
      },
      "source": [
        "a = [ [x, y] for x, y in [(1, 2), (2, 3), (4, 5)] ]\n",
        "print(a)"
      ],
      "execution_count": null,
      "outputs": [
        {
          "output_type": "stream",
          "name": "stdout",
          "text": [
            "[[1, 2], [2, 3], [4, 5]]\n"
          ]
        }
      ]
    },
    {
      "cell_type": "markdown",
      "metadata": {
        "id": "UPPIeDs3D4G0"
      },
      "source": [
        "## Section 3 : Function"
      ]
    },
    {
      "cell_type": "code",
      "metadata": {
        "id": "yXlw-4jI3nB8"
      },
      "source": [
        "# 일련의 동작을 포함하여 반복되는 작업은 함수를 만들어 사용하면 편리하다."
      ],
      "execution_count": null,
      "outputs": []
    },
    {
      "cell_type": "code",
      "metadata": {
        "colab": {
          "base_uri": "https://localhost:8080/"
        },
        "id": "X56GSF7Bpq67",
        "outputId": "51177982-45e9-46da-9cd6-468553b5d61a"
      },
      "source": [
        "import random\n",
        "random.seed(1)\n",
        "arr = random.sample(range(1, 101), 20)\n",
        "m = max(arr)\n",
        "print(arr, m, sep='\\n')"
      ],
      "execution_count": null,
      "outputs": [
        {
          "output_type": "stream",
          "text": [
            "[18, 73, 98, 9, 33, 16, 64, 58, 61, 84, 49, 27, 13, 63, 4, 50, 56, 78, 99, 1]\n",
            "99\n"
          ],
          "name": "stdout"
        }
      ]
    },
    {
      "cell_type": "markdown",
      "metadata": {
        "id": "Jf6sPtUy34iD"
      },
      "source": [
        "### 3-01. 함수의 필요성, 용어, 정의  \n",
        "- 특정 작업을 수행하는 명령문의 그룹\n",
        "- 프로그램의 기능 단위로 모듈을 구성하는데 사용됨\n",
        "- 프로그램이 복잡해지고 커질 때 함수를 사용하면 체계적이고 관리도 쉬워짐\n",
        "- 코드의 반복을 피할 수 있고, 코드의 재사용이 가능함\n",
        "    \n",
        "- 참고 : https://youtu.be/EoUCOihCFG0 (깨봉수학 함수의 정의 참조)\n",
        "- 용어\n",
        "    - argument : 인수, 함수에 전달하는 객체, 실체(instance, object)\n",
        "    - parameter : 매개변수, 인수를 가리킬 이름 (인수를 저장할 변수)\n",
        "    - return : 반환\n",
        "- 함수의 정의\n",
        "    - ```def 함수명(parameter_list) :```\n",
        "        - ```statements```\n",
        "        - ```return 반환값```    "
      ]
    },
    {
      "cell_type": "markdown",
      "metadata": {
        "id": "i3Jtn0Mv4Sti"
      },
      "source": [
        "- 함수 호출 => object\n",
        "    - 함수를 정의한 후에는 다른 함수, 프로그램 등에서 호출\n",
        "    - 함수를 호출하기 위해서는 argument를 전달해야 함\n",
        "- return\n",
        "    - return 문은 함수를 종료하고 함수를 호출한 곳으로 돌아가는 데 사용\n",
        "    - return 문은 object를 반환 함\n",
        "    - return 문 뒤에 object가 없거나, return 문 자체가 없으면 함수는 None 반환\n"
      ]
    },
    {
      "cell_type": "code",
      "metadata": {
        "colab": {
          "base_uri": "https://localhost:8080/"
        },
        "id": "eSEiW-l-mX32",
        "outputId": "4eb21605-3e3b-4044-b3cf-4c05582ff91e"
      },
      "source": [
        "def add(a, b):\n",
        "    return a + b\n",
        "\n",
        "result = add(11, 20)\n",
        "print(result)"
      ],
      "execution_count": null,
      "outputs": [
        {
          "output_type": "stream",
          "name": "stdout",
          "text": [
            "31\n"
          ]
        }
      ]
    },
    {
      "cell_type": "markdown",
      "metadata": {
        "id": "GSLCH8Bj4mgH"
      },
      "source": [
        "### 3-02. 함수의 형태"
      ]
    },
    {
      "cell_type": "code",
      "metadata": {
        "id": "ydGD1McP4jih",
        "colab": {
          "base_uri": "https://localhost:8080/"
        },
        "outputId": "091ba4fb-5c88-4c2b-ac5d-d779fc93fa0c"
      },
      "source": [
        "# parameter, return 모두 없는 형태\n",
        "def func():\n",
        "    print(\"func\")\n",
        "\n",
        "x = func()\n",
        "print(x)"
      ],
      "execution_count": null,
      "outputs": [
        {
          "output_type": "stream",
          "name": "stdout",
          "text": [
            "func\n",
            "None\n"
          ]
        }
      ]
    },
    {
      "cell_type": "code",
      "metadata": {
        "id": "oikwQ6pT4ppO",
        "colab": {
          "base_uri": "https://localhost:8080/"
        },
        "outputId": "56919509-da9a-4f99-880f-8523b9b145e8"
      },
      "source": [
        "# parameter 없고 return 있는 형태\n",
        "def func():\n",
        "   return \"run func!\"\n",
        "\n",
        "x = func()\n",
        "print(x)"
      ],
      "execution_count": null,
      "outputs": [
        {
          "output_type": "stream",
          "name": "stdout",
          "text": [
            "run func!\n"
          ]
        }
      ]
    },
    {
      "cell_type": "code",
      "metadata": {
        "id": "yWywg4H64qrr",
        "colab": {
          "base_uri": "https://localhost:8080/"
        },
        "outputId": "120e43e0-5b5c-4240-c411-fcc05e8e8fa3"
      },
      "source": [
        "# parameter, return 모두 있는 형태\n",
        "def func1(a, b):\n",
        "    return a+b\n",
        "\n",
        "x = func1(10, 20)\n",
        "print(x)"
      ],
      "execution_count": null,
      "outputs": [
        {
          "output_type": "stream",
          "name": "stdout",
          "text": [
            "30\n"
          ]
        }
      ]
    },
    {
      "cell_type": "code",
      "metadata": {
        "id": "aTDXeCc44sAg",
        "colab": {
          "base_uri": "https://localhost:8080/"
        },
        "outputId": "eee9a3fa-b63c-4f20-8d9a-a5ab353bf0fd"
      },
      "source": [
        "# parameter 있고, return 없는 형태\n",
        "def func2(a, b):\n",
        "    print(a + b)\n",
        "    #return None\n",
        "\n",
        "x = func2(1, 2)\n",
        "print(x)"
      ],
      "execution_count": null,
      "outputs": [
        {
          "output_type": "stream",
          "name": "stdout",
          "text": [
            "3\n",
            "None\n"
          ]
        }
      ]
    },
    {
      "cell_type": "markdown",
      "metadata": {
        "id": "7DQW5h1C4vbi"
      },
      "source": [
        "### 3-03. argument의 종류\n",
        "- 함수의 호출시 사용되는 argument    \n",
        "    - positional argument : 위치(=순서)에 따라 값이 전달되는 방식\n",
        "    - keyword argument : = 를 사용하여 특정 parameter에 값을 제공함, 순서에 상관 없음\n",
        "- 함수 정의시 사용되는 argument\n",
        "    - default argument : 새로운 argument가 전달되지 않을 경우 사용되는 기본 값\n",
        "- Python의 argument rule\n",
        "     1. 함수 정의 시 : non-default argument가 앞, default argument가 뒤에 위치해야 한다.\n",
        "     2. 함수 호출 시 : positional argument가 앞, keyword argument가 뒤에 위치해야 한다."
      ]
    },
    {
      "cell_type": "code",
      "metadata": {
        "id": "OIbizkNL41EI",
        "colab": {
          "base_uri": "https://localhost:8080/"
        },
        "outputId": "7cad37c6-a228-4c0f-a000-1b48213f1f43"
      },
      "source": [
        "def function(a, b):  # a, b : parameter\n",
        "    return [a, b]\n",
        "\n",
        "# 어떻게 사용하는 것일까요?\n",
        "x = function(10, 20)       # positional argument - 순서에 의해서 parameter에 argument를 전달하는 방식\n",
        "y = function(b=10, a=20)   # keyword argument - parameter를 지정하여 argument를 전달하는 방식\n",
        "print(x, y)"
      ],
      "execution_count": null,
      "outputs": [
        {
          "output_type": "stream",
          "name": "stdout",
          "text": [
            "[10, 20] [20, 10]\n"
          ]
        }
      ]
    },
    {
      "cell_type": "code",
      "metadata": {
        "id": "Rakc25MD44Zj"
      },
      "source": [
        "# default argument (b=0), non - default argument (a)\n",
        "def mySum(a, b=0):   # def mySum(a=1, b):  (불가능)\n",
        "  return a + b\n",
        "\n",
        "x = mySum(10)\n",
        "y = mySum(10, 5)\n",
        "print(x, y)"
      ],
      "execution_count": null,
      "outputs": []
    },
    {
      "cell_type": "code",
      "metadata": {
        "id": "VOCUZaDbF55l"
      },
      "source": [
        "def mySum(a = 1, b):\n",
        "    return a, b"
      ],
      "execution_count": null,
      "outputs": []
    },
    {
      "cell_type": "code",
      "metadata": {
        "id": "ecNapH7-5IS_"
      },
      "source": [
        "# Error\n",
        "# - positional argument follows keyword argument\n",
        "def func(a, b, c):\n",
        "  return a + b + c\n",
        "\n",
        "#func(a=10, b=20, c)\n",
        "func(10, c=20, b=30)"
      ],
      "execution_count": null,
      "outputs": []
    },
    {
      "cell_type": "code",
      "metadata": {
        "id": "iaVMoHxI5Nk8"
      },
      "source": [
        "# Error\n",
        "# - non-default argument follows default argument\n",
        "def func(a=1, b=2, c) :\n",
        "#def func(a, b=1, c=2):\n",
        "  return a + b + c\n",
        "\n",
        "func(10)"
      ],
      "execution_count": null,
      "outputs": []
    },
    {
      "cell_type": "markdown",
      "metadata": {
        "id": "G93asFFc5d7O"
      },
      "source": [
        "### 3-04. parameter의 종류\n",
        "어떤 종류의 argument를 전달 할 수 있는가?!\n",
        "\n",
        "**positional or keyword parameter   ```(a, b, c)```**\n",
        "- parameter 앞쪽으로 *, 뒤쪽으로 ,/ 가 없음\n",
        "\n",
        "**positional only parameter  ```(a, b, /)```**  # v3.8 부터\n",
        "- parameter 뒤쪽으로 ,/가 있음\n",
        "\n",
        "**keyword only parameter   ```(*, a, b)  (*a, b, c)```**\n",
        "- parameter 앞쪽으로 *, 가 있음 (이름과 떨어진 상태로)\n",
        "\n",
        "**var-positional parameter**  ```(*a)```\n",
        "- parameter 이름에 *가 하나 붙어 있음\n",
        "- tuple 형태로 전달된다\n",
        "\n",
        "**var-keyword parameter**  ```(**a)```\n",
        "- parameter 이름에 *이 두개 붙어 있음\n",
        "- dict 형태로 전달된다\n",
        "\n",
        "**var positional, var keyword**\n",
        "- var는 0개 이상의 가변적 argument를 의미한다\n",
        "- default argument를 지정할 수 없음\n",
        "- var keyword parameter는 단독으로 사용되거나, 맨 마지막 parameter로만 사용"
      ]
    },
    {
      "cell_type": "code",
      "metadata": {
        "id": "eEdj3ntwNSW-"
      },
      "source": [
        "# positional or keyword parameter\n",
        "def func(a) :\n",
        "    print(a)\n",
        "\n",
        "func(10)    # positional argument\n",
        "func(a=20)  # keyword argument"
      ],
      "execution_count": null,
      "outputs": []
    },
    {
      "cell_type": "code",
      "metadata": {
        "id": "STKjQKL_NSYw"
      },
      "source": [
        "# positional only parameter\n",
        "# python v3.8 이상에서 사용 가능\n",
        "def func(a, b, /) :\n",
        "    print(a)\n",
        "\n",
        "func(10, 20) # positional argument"
      ],
      "execution_count": null,
      "outputs": []
    },
    {
      "cell_type": "code",
      "metadata": {
        "id": "Bir9w3n0NSTp"
      },
      "source": [
        "# keyword only parameter\n",
        "def func(*, a, b) :\n",
        "    print(a)\n",
        "\n",
        "func(b=20, a=10)    # keyword argument\n",
        "#func(10, 20)  # Error"
      ],
      "execution_count": null,
      "outputs": []
    },
    {
      "cell_type": "code",
      "metadata": {
        "id": "rimHowVhNSQg"
      },
      "source": [
        "# Quiz - 각 parameter의 종류가 무엇인지 적어보세요\n",
        "# a : ( positional or keyword) parameter\n",
        "# b, c : ( keyword only ) parameter\n",
        "def func(a, *, b, c) :\n",
        "  return [a, b, c]   # ( a = 10, b = 20, c = 30)\n",
        "\n",
        "r1 = func(10, b=20, c=30)   # a를 positional argument\n",
        "r2 = func(a=10, b=20, c=30) # a를 keyword argument\n",
        "r3 = func(c=30, b=20, a=10) # keyword argument 일때는 순서가 중요하지 않음\n",
        "print(r1, r2, r3)"
      ],
      "execution_count": null,
      "outputs": []
    },
    {
      "cell_type": "code",
      "metadata": {
        "id": "aQ70Ifi5Nd2_"
      },
      "source": [
        "# var positional parameter\n",
        "# a의 type은 무엇일까요? tuple\n",
        "\n",
        "def func (*a):\n",
        "    print(type(a), a)\n",
        "\n",
        "func(1,2,3,4,5,6,7)\n",
        "func()"
      ],
      "execution_count": null,
      "outputs": []
    },
    {
      "cell_type": "code",
      "metadata": {
        "id": "qeLl-6-tNdtW"
      },
      "source": [
        "# Quiz - 각 parameter의 종류가 무엇인지 적어보세요\n",
        "# a : (var - positional) parameter - default argument를 갖지 못함\n",
        "# b : ( keyword only ) parameter\n",
        "def func (*a, b):\n",
        "    print(type(a), a)\n",
        "    print(b)\n",
        "\n",
        "func(1,2,3,4,5,6,7, b=10)\n",
        "func(b=20)"
      ],
      "execution_count": null,
      "outputs": []
    },
    {
      "cell_type": "code",
      "metadata": {
        "id": "66wTJxyjNhgk"
      },
      "source": [
        "# var-keyword parameter\n",
        "# - 맨 마지막 parameter로만 사용가능\n",
        "# - a의 type은 무엇일까요? dict\n",
        "def func(**a):\n",
        "    print(type(a), a)\n",
        "\n",
        "func(A=10, B=20, C=30, D=40)\n",
        "func()"
      ],
      "execution_count": null,
      "outputs": []
    },
    {
      "cell_type": "code",
      "source": [
        "# dict(**kwargs)\n",
        "# dict(mapping, **kwargs)\n",
        "# dict(iterable, **kwargs)"
      ],
      "metadata": {
        "id": "NmP1I_9fMpXM"
      },
      "execution_count": null,
      "outputs": []
    },
    {
      "cell_type": "code",
      "source": [],
      "metadata": {
        "id": "T6VVZNyPMqD-"
      },
      "execution_count": null,
      "outputs": []
    },
    {
      "cell_type": "markdown",
      "metadata": {
        "id": "9BN3eLRqFuCT"
      },
      "source": [
        "### 3-05. lambda 함수\n",
        "- 이름이 없는 함수\n",
        "- 하나의 object로 취급되어 이름 = lambda 함수 를 할 수 있음\n",
        "- 주로 다른 함수의 argument로 사용됨 (예) map 함수"
      ]
    },
    {
      "cell_type": "code",
      "metadata": {
        "id": "EkWAL9rKAL-9"
      },
      "source": [
        "lambda parameter_list : object"
      ],
      "execution_count": null,
      "outputs": []
    },
    {
      "cell_type": "code",
      "metadata": {
        "id": "0EYEnqzyArTW"
      },
      "source": [
        "def function(a, b):\n",
        "    return a + b"
      ],
      "execution_count": null,
      "outputs": []
    },
    {
      "cell_type": "code",
      "metadata": {
        "id": "QN-9wnGPPO0b"
      },
      "source": [
        "# [1] 두 수의 합을 구하는 lambda 함수 작성 및 실행\n"
      ],
      "execution_count": null,
      "outputs": []
    },
    {
      "cell_type": "code",
      "metadata": {
        "id": "s2e1fK78ZV9K"
      },
      "source": [
        "# [2] 두 수의 합을 구하는 lambda 함수 작성 및 실행\n"
      ],
      "execution_count": null,
      "outputs": []
    },
    {
      "cell_type": "code",
      "metadata": {
        "id": "NMU0X4-DPOxe"
      },
      "source": [
        "# [3] 한 개 숫자의 '1의 자리'를 0으로 변경하는\n",
        "# 함수 작성 및 실행\n"
      ],
      "execution_count": null,
      "outputs": []
    },
    {
      "cell_type": "markdown",
      "metadata": {
        "id": "A5pQFQU74pTB"
      },
      "source": [
        "## Section 4. 모듈사용\n",
        "- 관련있는 변수, 함수, 클래스를 저장한 하나의 파일\n",
        "- 다른 Python 파일에서 등록하여 해당 파일 내부의 변수, 함수, 클래스를 사용함\n",
        "- 관리가 편하고, 재사용성이 높아짐\n",
        "- 파일명이 myModule.py이면 모듈명은 myModule 임\n",
        "- 현재 Python 3.x 버전에서는 대략 200개가 넘는 모듈이 지원됨"
      ]
    },
    {
      "cell_type": "markdown",
      "metadata": {
        "id": "q9w9wfOp13Ym"
      },
      "source": [
        "### 4-01. 모듈 import\n",
        "import 방법\n",
        "- import 모듈명\n",
        "- import 모듈명 as 별명\n",
        "- from 모듈명 import 속성/함수명\n",
        "- from 패키지명 import 모듈명\n",
        "- from 패키지명.모듈명 import 속성/함수명\n",
        "\n",
        "이름으로 사용되는 것\n",
        "- import 뒤에 있는 모듈/속성/함수명이 사용할 수 있는 이름이 됨\n",
        "- import 와 함께 as가 사용되면 as 뒤에 있는 이름이 사용할 수 있는 이름이 됨"
      ]
    },
    {
      "cell_type": "code",
      "metadata": {
        "id": "yMmY4U_J5H5v"
      },
      "source": [
        "# [1] math 모듈을 import 하고,\n",
        "# pi 값, sqrt 함수를 사용해 본다\n",
        "\n",
        "print(math.pi, math.sqrt(16))"
      ],
      "execution_count": null,
      "outputs": []
    },
    {
      "cell_type": "code",
      "metadata": {
        "id": "wcj4hRbH5H50"
      },
      "source": [
        "# dir() 함수를 이용하여\n",
        "# 모듈에 포함된 함수/변수 확인\n",
        "import math\n",
        "print(dir(math))"
      ],
      "execution_count": null,
      "outputs": []
    },
    {
      "cell_type": "code",
      "metadata": {
        "id": "szh6jati5H5x"
      },
      "source": [
        "# [2] math 모듈을 import 하고,\n",
        "# pi 값, sqrt 함수를 사용해 본다\n",
        "\n",
        "print(pi, sqrt(16))"
      ],
      "execution_count": null,
      "outputs": []
    },
    {
      "cell_type": "code",
      "metadata": {
        "id": "DuRyilZxEA9U"
      },
      "source": [
        "# [3] numpy 라이브러리를 import\n",
        "# => 이름을 numpy로 사용\n",
        "import numpy\n",
        "print(numpy.nan)"
      ],
      "execution_count": null,
      "outputs": []
    },
    {
      "cell_type": "code",
      "metadata": {
        "id": "ZN2g7mnkGWKA"
      },
      "source": [
        "import numpy\n",
        "print(dir(numpy))"
      ],
      "execution_count": null,
      "outputs": []
    },
    {
      "cell_type": "code",
      "metadata": {
        "id": "m_utF9u4ELG5"
      },
      "source": [
        "# [4] numpy 라이브러리를 import\n",
        "# => 이름을 np로 사용\n",
        "# (numpy라는 이름은 사용하지 않음)\n",
        "\n",
        "print(np.random.randint(1, 10))\n",
        "print(np.nan)"
      ],
      "execution_count": null,
      "outputs": []
    },
    {
      "cell_type": "code",
      "metadata": {
        "id": "kqtBefArv0Sv"
      },
      "source": [
        "# [5] numpy에서 random 모듈만 import\n",
        "# => 이름을 random으로 사용\n",
        "# numpy에 포함된 다른 속성/함수 사용 불가\n",
        "\n",
        "print(random.randint(1, 10))"
      ],
      "execution_count": null,
      "outputs": []
    },
    {
      "cell_type": "code",
      "metadata": {
        "id": "wIJye_CJET1W"
      },
      "source": [
        "# [6] numpy에서 random 모듈만 import\n",
        "# => 이름을 rd 로 사용\n",
        "\n",
        "print(rd.randint(1, 10))"
      ],
      "execution_count": null,
      "outputs": []
    },
    {
      "cell_type": "code",
      "source": [
        "# numpy.random 모듈에서 randint를 import\n",
        "# (작업2, 3유형에서 자주 사용하는 유형의 import 방법입니다.)\n",
        "from numpy.random import randint\n",
        "print(randint(1, 10))"
      ],
      "metadata": {
        "id": "1XAP9MO9MUC2"
      },
      "execution_count": null,
      "outputs": []
    }
  ]
}