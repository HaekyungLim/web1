{
  "nbformat": 4,
  "nbformat_minor": 0,
  "metadata": {
    "colab": {
      "provenance": [],
      "authorship_tag": "ABX9TyNnxZtVfNHuJ8NzBodqmScG",
      "include_colab_link": true
    },
    "kernelspec": {
      "name": "python3",
      "display_name": "Python 3"
    },
    "language_info": {
      "name": "python"
    }
  },
  "cells": [
    {
      "cell_type": "markdown",
      "metadata": {
        "id": "view-in-github",
        "colab_type": "text"
      },
      "source": [
        "<a href=\"https://colab.research.google.com/github/HaekyungLim/web1/blob/main/Untitled0.ipynb\" target=\"_parent\"><img src=\"https://colab.research.google.com/assets/colab-badge.svg\" alt=\"Open In Colab\"/></a>"
      ]
    },
    {
      "cell_type": "code",
      "execution_count": 5,
      "metadata": {
        "colab": {
          "base_uri": "https://localhost:8080/"
        },
        "id": "f2kCYTUiemwF",
        "outputId": "8ff8d057-99c0-4f08-83db-c9cb1fb9978e"
      },
      "outputs": [
        {
          "output_type": "stream",
          "name": "stdout",
          "text": [
            "Hello World\n"
          ]
        }
      ],
      "source": [
        "print('Hello World')"
      ]
    },
    {
      "cell_type": "code",
      "source": [
        "print('비행기 타신 승객 여러분')"
      ],
      "metadata": {
        "colab": {
          "base_uri": "https://localhost:8080/"
        },
        "id": "SYxP4kFHgdAT",
        "outputId": "d224ee13-0ab9-48bc-e064-79cb7718fdb0"
      },
      "execution_count": 2,
      "outputs": [
        {
          "output_type": "stream",
          "name": "stdout",
          "text": [
            "비행기 타신 승객 여러분\n"
          ]
        }
      ]
    },
    {
      "cell_type": "code",
      "source": [
        "print(3+5)\n",
        "print(3-5)\n",
        "print(3*5)\n",
        "print(3/5)\n",
        "print(13//5)# 몫\n",
        "print(13%5) #나머지\n",
        "print(2**4) #제곱"
      ],
      "metadata": {
        "colab": {
          "base_uri": "https://localhost:8080/"
        },
        "id": "wfz9xkbAg7kw",
        "outputId": "5d7fe396-3b82-404e-abc8-bd22bd099de8"
      },
      "execution_count": 8,
      "outputs": [
        {
          "output_type": "stream",
          "name": "stdout",
          "text": [
            "8\n",
            "-2\n",
            "15\n",
            "0.6\n",
            "2\n",
            "3\n",
            "16\n"
          ]
        }
      ]
    },
    {
      "cell_type": "code",
      "source": [
        "print('안녕'+'하세요')\n"
      ],
      "metadata": {
        "colab": {
          "base_uri": "https://localhost:8080/"
        },
        "id": "OswRMJjQjJm5",
        "outputId": "c19189e1-e2ad-4822-bd34-988bbdbde2ad"
      },
      "execution_count": 9,
      "outputs": [
        {
          "output_type": "stream",
          "name": "stdout",
          "text": [
            "안녕하세요\n"
          ]
        }
      ]
    },
    {
      "cell_type": "code",
      "source": [
        "alpha='Ready'\n",
        "print(alpha[1])"
      ],
      "metadata": {
        "colab": {
          "base_uri": "https://localhost:8080/"
        },
        "id": "5vNlIbPVjmxD",
        "outputId": "04c0c201-2006-42d2-d410-0c30b0d303c2"
      },
      "execution_count": 10,
      "outputs": [
        {
          "output_type": "stream",
          "name": "stdout",
          "text": [
            "e\n"
          ]
        }
      ]
    },
    {
      "cell_type": "code",
      "source": [
        "var = input()\n",
        "var2 = var +'5678'\n",
        "print(var2)\n",
        "var3=int(var2)+90\n",
        "print(var3)"
      ],
      "metadata": {
        "colab": {
          "base_uri": "https://localhost:8080/"
        },
        "id": "gjaFxqusj411",
        "outputId": "9cdef247-3b76-4d90-e2ed-6ecd6c7e515d"
      },
      "execution_count": 16,
      "outputs": [
        {
          "output_type": "stream",
          "name": "stdout",
          "text": [
            "1234\n",
            "12345678\n",
            "12345768\n"
          ]
        }
      ]
    },
    {
      "cell_type": "code",
      "source": [
        "scores = [int(i) for i in input().split()]\n",
        "\n",
        "#이 아래에 코드를 작성하세요.\n",
        "if min(scores)>=75:\n",
        "  print('A+')\n",
        "elif min(scores)>= 50:\n",
        "  print('A')\n",
        "elif scores[1] <50:\n",
        "  print('F')\n",
        "else:\n",
        "  print('B+')\n"
      ],
      "metadata": {
        "id": "BeTnZGvqmkI3"
      },
      "execution_count": null,
      "outputs": []
    }
  ]
}